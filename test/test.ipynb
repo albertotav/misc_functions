{
 "cells": [
  {
   "cell_type": "code",
   "execution_count": null,
   "source": [
    "import os\r\n",
    "import json\r\n",
    "\r\n",
    "class Config():\r\n",
    "\r\n",
    "    def __init__():\r\n",
    "        pass\r\n",
    "\r\n",
    "    @staticmethod\r\n",
    "    def read_json_file(filepath):\r\n",
    "        \"\"\"\r\n",
    "        \"\"\"\r\n",
    "\r\n",
    "    @staticmethod\r\n",
    "    def read_yml_file(filepath):\r\n",
    "        \"\"\"\r\n",
    "        \"\"\"\r\n",
    "\r\n",
    "    "
   ],
   "outputs": [],
   "metadata": {}
  }
 ],
 "metadata": {
  "orig_nbformat": 4,
  "language_info": {
   "name": "python"
  }
 },
 "nbformat": 4,
 "nbformat_minor": 2
}